{
 "cells": [
  {
   "cell_type": "markdown",
   "metadata": {},
   "source": [
    "![](./img/logo.png)"
   ]
  },
  {
   "cell_type": "markdown",
   "metadata": {},
   "source": [
    "# 2do Parcial: Análisis Exploratorio de Datos. \n",
    "\n",
    "\n",
    "### Nombre Estudiante:   \n",
    "### Cédula de Ciudadanía:"
   ]
  },
  {
   "cell_type": "markdown",
   "metadata": {},
   "source": [
    "# Modelo **02**\n",
    "\n",
    "### Descripción de Valores:\n",
    "\n",
    "    ID Orden: continuo.\n",
    "    Producto: Cable de Carga USB-C P/O, Parlante Google HomeMini, AAA Batteries (4-pack), Cable de Carga Lightning,\n",
    "              Asus VivoBook X420FA-BV Laptop, Audifonos Apple Airpods, Macbook Air MQD32E/A 128GB 13.3\",\n",
    "              Horno Microondas 0.8P Samsung AGE, Samsung Galaxy A302, Motorola G8 Plus Red, AA Batteries (4-pack),\n",
    "              Audifonos Bose SoundSport, Freidora Air Fryer Kalley K-MAF25, Xiaomi REDMI Note 8, \n",
    "              LG Lavadora 19Kg Inv WT19, Multiolla Oster 0150 Negra PE, LG Secadora Carga Frontal,\n",
    "              Samsung Galaxy A20S, Freidora Saludable B&D 3.5 Litros.\n",
    "    Cantidad Ordenada:  continuo.\n",
    "    Precio Unitario: continuo.\n",
    "    Fecha: mes/dia/año hora.\n",
    "    Dirección de Compra: 631 calle Boyacá, Armenia, QU, 546 calle 5ta, Medellin, AN,\n",
    "                         593 calle 8va, Manizalez, CA, ..., 605 calle 5ta, Bogotá, CU,\n",
    "                         294 calle 4ta, Neiva, HU, 47 calle Rio, Ibagué, TO.\n"
   ]
  },
  {
   "cell_type": "markdown",
   "metadata": {},
   "source": [
    "## 0.- Bibliotecas "
   ]
  },
  {
   "cell_type": "code",
   "execution_count": null,
   "metadata": {},
   "outputs": [],
   "source": []
  },
  {
   "cell_type": "code",
   "execution_count": null,
   "metadata": {},
   "outputs": [],
   "source": []
  },
  {
   "cell_type": "code",
   "execution_count": null,
   "metadata": {},
   "outputs": [],
   "source": []
  },
  {
   "cell_type": "markdown",
   "metadata": {},
   "source": [
    "## 1.- Agrupe cada mes de ventas en un solo CSV ('ventas2019.csv')\n",
    "    - Limpie los datos (NaN y duplicados), Pasar a Datos Numericos lo que correspondan\n",
    "    - Agregar columnas Mes, Ciudad (Departamento) y Ventas\n",
    "    --> Bonus ¿Cuantas filas con datos incompletos y duplicados se han eliminado?"
   ]
  },
  {
   "cell_type": "markdown",
   "metadata": {},
   "source": [
    "<img src=\"./img/grafi03.png\">"
   ]
  },
  {
   "cell_type": "code",
   "execution_count": null,
   "metadata": {},
   "outputs": [],
   "source": []
  },
  {
   "cell_type": "code",
   "execution_count": null,
   "metadata": {},
   "outputs": [],
   "source": []
  },
  {
   "cell_type": "code",
   "execution_count": null,
   "metadata": {},
   "outputs": [],
   "source": []
  },
  {
   "cell_type": "code",
   "execution_count": null,
   "metadata": {},
   "outputs": [],
   "source": []
  },
  {
   "cell_type": "markdown",
   "metadata": {},
   "source": [
    "## 2.- Elabore una gráfica de \"Ventas por Mes (Año 2019)\"\n",
    "    - ¿Cuál fue el mejor mes en ventas del año 2019\n",
    "    - ¿Cuál fue el peor mes en ventas del año 2019"
   ]
  },
  {
   "cell_type": "markdown",
   "metadata": {},
   "source": [
    "<img src=\"./img/grafi041.png\" style=\"width:250px\">"
   ]
  },
  {
   "cell_type": "code",
   "execution_count": null,
   "metadata": {},
   "outputs": [],
   "source": []
  },
  {
   "cell_type": "code",
   "execution_count": null,
   "metadata": {},
   "outputs": [],
   "source": []
  },
  {
   "cell_type": "code",
   "execution_count": null,
   "metadata": {},
   "outputs": [],
   "source": []
  },
  {
   "cell_type": "markdown",
   "metadata": {},
   "source": [
    "## 3.- Elabore una gráfica de barras: \"Ventas por Ciudad (Año 2019)\"\n",
    "    - ¿Cuál fue la ciudad que más productos vendió?"
   ]
  },
  {
   "cell_type": "markdown",
   "metadata": {},
   "source": [
    "<img src=\"./img/grafi042.png\" style=\"width:250px\">"
   ]
  },
  {
   "cell_type": "code",
   "execution_count": null,
   "metadata": {},
   "outputs": [],
   "source": []
  },
  {
   "cell_type": "code",
   "execution_count": null,
   "metadata": {},
   "outputs": [],
   "source": []
  },
  {
   "cell_type": "code",
   "execution_count": null,
   "metadata": {},
   "outputs": [],
   "source": []
  },
  {
   "cell_type": "code",
   "execution_count": null,
   "metadata": {},
   "outputs": [],
   "source": []
  },
  {
   "cell_type": "markdown",
   "metadata": {},
   "source": [
    "## 4.- Elabore una gráfica de la Cantidad de Productos Vendidos (Año 2019)\n",
    "    - ¿Cúal es el producto más vendido? \n",
    "    - ¿Por qué piensa que es el más vendido? "
   ]
  },
  {
   "cell_type": "markdown",
   "metadata": {},
   "source": [
    "<img src=\"./img/grafi043.png\" style=\"width:250px\">"
   ]
  },
  {
   "cell_type": "code",
   "execution_count": null,
   "metadata": {},
   "outputs": [],
   "source": []
  },
  {
   "cell_type": "code",
   "execution_count": null,
   "metadata": {},
   "outputs": [],
   "source": []
  },
  {
   "cell_type": "code",
   "execution_count": null,
   "metadata": {},
   "outputs": [],
   "source": []
  },
  {
   "cell_type": "markdown",
   "metadata": {},
   "source": [
    "## 5.- Dada las ventas por productos, elabore una gráfica sobre el punto anterior el precio promedio de los productos según el ejemplo."
   ]
  },
  {
   "cell_type": "markdown",
   "metadata": {},
   "source": [
    "<img src=\"./img/grafi044.png\" style=\"width:250px\">"
   ]
  },
  {
   "cell_type": "code",
   "execution_count": null,
   "metadata": {},
   "outputs": [],
   "source": []
  },
  {
   "cell_type": "code",
   "execution_count": null,
   "metadata": {},
   "outputs": [],
   "source": []
  },
  {
   "cell_type": "code",
   "execution_count": null,
   "metadata": {},
   "outputs": [],
   "source": []
  },
  {
   "cell_type": "markdown",
   "metadata": {},
   "source": [
    "## 6.- Describa al menos 5 conclusiones sobre la gráfica del punto 5."
   ]
  },
  {
   "cell_type": "code",
   "execution_count": null,
   "metadata": {},
   "outputs": [],
   "source": []
  },
  {
   "cell_type": "markdown",
   "metadata": {},
   "source": [
    "## 7.- ¿Cuál es el promedio, desviación, el valor máximo y mínimo de las Ventas en el DataFrame?"
   ]
  },
  {
   "cell_type": "code",
   "execution_count": null,
   "metadata": {},
   "outputs": [],
   "source": []
  },
  {
   "cell_type": "code",
   "execution_count": null,
   "metadata": {},
   "outputs": [],
   "source": []
  },
  {
   "cell_type": "code",
   "execution_count": null,
   "metadata": {},
   "outputs": [],
   "source": []
  },
  {
   "cell_type": "markdown",
   "metadata": {},
   "source": [
    "## 8.- ¿Cuál es la proporción de ventas de la ciudad de Cúcuta en el año 2019?"
   ]
  },
  {
   "cell_type": "code",
   "execution_count": null,
   "metadata": {},
   "outputs": [],
   "source": []
  },
  {
   "cell_type": "code",
   "execution_count": null,
   "metadata": {},
   "outputs": [],
   "source": []
  },
  {
   "cell_type": "code",
   "execution_count": null,
   "metadata": {},
   "outputs": [],
   "source": []
  },
  {
   "cell_type": "markdown",
   "metadata": {},
   "source": [
    "## 9.- Calcule el promedio y la desviación estandar de las Ventas, en:\n",
    "\n",
    "     ------------------------------------------------|--------------------------\n",
    "                 MESES Y CIUDADES                        Promedio +/- Std\n",
    "     ------------------------------------------------|--------------------------    \n",
    "     - Mes de Abril en la ciudad de Armenia (QU):       {mean} +- {std} COP ($).\n",
    " \n",
    "     - Meses Nov, Dic en la ciudad de Medellin (AN):    {mean} +- {std} COP ($).\n",
    " \n",
    "     - Meses Mayo en la ciudad de Bogotá (CU) :         {mean} +- {std} COP ($).\n",
    "     ------------------------------------------------|--------------------------"
   ]
  },
  {
   "cell_type": "code",
   "execution_count": null,
   "metadata": {},
   "outputs": [],
   "source": []
  },
  {
   "cell_type": "code",
   "execution_count": null,
   "metadata": {},
   "outputs": [],
   "source": []
  },
  {
   "cell_type": "code",
   "execution_count": null,
   "metadata": {},
   "outputs": [],
   "source": []
  }
 ],
 "metadata": {
  "kernelspec": {
   "display_name": "Python 3 (ipykernel)",
   "language": "python",
   "name": "python3"
  },
  "language_info": {
   "codemirror_mode": {
    "name": "ipython",
    "version": 3
   },
   "file_extension": ".py",
   "mimetype": "text/x-python",
   "name": "python",
   "nbconvert_exporter": "python",
   "pygments_lexer": "ipython3",
   "version": "3.8.9"
  }
 },
 "nbformat": 4,
 "nbformat_minor": 2
}
